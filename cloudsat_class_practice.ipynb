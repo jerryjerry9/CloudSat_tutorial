{
 "cells": [
  {
   "cell_type": "code",
   "execution_count": 1,
   "metadata": {},
   "outputs": [],
   "source": [
    "from pyhdf.SD  import SD, SDC\n",
    "from pyhdf.V import *\n",
    "from pyhdf.HDF import *\n",
    "import matplotlib.pyplot as plt\n",
    "import os\n",
    "os.environ['PROJ_LIB'] = 'D:\\\\program\\\\anaconda3\\\\Library\\\\share\\\\'\n",
    "#os.environ['PROJ_LIB'] = '/home/C.jerryjerry9/anaconda3/share/proj/'\n",
    "from mpl_toolkits.basemap import Basemap\n",
    "import numpy as np\n",
    "import pandas as pd\n",
    "import pprint\n",
    "import gc \n",
    "\n",
    "#####Fuction for extracting variable names from hdf file\n",
    "def HDFvars(File):\n",
    "    hdfFile = SD(File, SDC.READ)\n",
    "    dsets = hdfFile.datasets()\n",
    "    k = []\n",
    "    for key in dsets.keys():\n",
    "        k.append(key)\n",
    "    k.sort()\n",
    "    hdfFile.end() # close the file\n",
    "    return k\n",
    "#####Function end "
   ]
  },
  {
   "cell_type": "code",
   "execution_count": null,
   "metadata": {},
   "outputs": [],
   "source": [
    "filename = '檔案.hdf'\n",
    "#讀取vdata\n",
    "reading_vdata = HDF(filename, HC.READ).vstart()\n",
    "vdata =reading_vdata.vdatainfo()\n",
    "\n",
    "pprint.pprint(vdata[:])##把vdata存的變數名稱輸出\n",
    "members = ['vdata代碼'] ##我們想提出的geolocation data\n",
    "nrecs = []\n",
    "names = []\n",
    "for ref in members:\n",
    " #       # Vdata tag\n",
    "    vd = reading_vdata.attach(ref)\n",
    "    nrecs.append(vd.inquire()[0])  ## number of records of the Vdata\n",
    "    names.append(vd.inquire()[-1]) ## name of the Vdata\n",
    "    vd.detach()\n",
    "\n",
    "print(names)##輸出的變數名稱\n",
    "print(nrecs)##變數矩陣的長度\n",
    "\n",
    "# Read geolocation dataset.\n",
    "#['UTC_start', 'Latitude', 'Longitude', 'Data_quality', 'MODIS_Cloud_Fraction','Navigation_land_sea_flag']\n",
    "idx = names.index('UTC_start')\n",
    "var = reading_vdata.attach(members[idx])\n",
    "UTC_time = var.read(nrecs[idx])\n",
    "\n",
    "idx = names.index('Latitude')\n",
    "var = reading_vdata.attach(members[idx])\n",
    "latitude = var.read(nrecs[idx])\n",
    "\n",
    "idx = names.index('Longitude',)\n",
    "var = reading_vdata.attach(members[idx])\n",
    "longitude = var.read(nrecs[idx])\n",
    "\n",
    "idx = names.index('MODIS_Cloud_Fraction',)\n",
    "var = reading_vdata.attach(members[idx])\n",
    "MODIS_cloud_fraction = var.read(nrecs[idx])\n",
    "\n",
    "idx = names.index('Data_quality',)\n",
    "var = reading_vdata.attach(members[idx])\n",
    "data_quality = var.read(nrecs[idx])\n",
    "\n",
    "del reading_vdata\n",
    "print(gc.collect())"
   ]
  },
  {
   "cell_type": "code",
   "execution_count": null,
   "metadata": {},
   "outputs": [],
   "source": [
    "lat_demo = pd.DataFrame(latitude[:], columns= ['latitude'])\n",
    "print(lat_demo.shape)\n",
    "print(lat_demo.head())"
   ]
  },
  {
   "cell_type": "code",
   "execution_count": null,
   "metadata": {},
   "outputs": [],
   "source": [
    "lon_demo = pd.DataFrame(longitude[:], columns= ['longitude'])\n",
    "print(lon_demo.shape)\n",
    "print(lon_demo.head())"
   ]
  },
  {
   "cell_type": "code",
   "execution_count": 13,
   "metadata": {},
   "outputs": [],
   "source": [
    "#以台灣為中心畫圖，所以要調整一下經度的表示方式\n",
    "mo_longitude=np.asarray(longitude)\n",
    "shape1 = mo_longitude.shape\n",
    "\n",
    "for i in range(0,shape1[0]):\n",
    "    if mo_longitude[i] < -60:\n",
    "        mo_longitude[i]=mo_longitude[i]+360\n"
   ]
  },
  {
   "cell_type": "code",
   "execution_count": null,
   "metadata": {},
   "outputs": [],
   "source": [
    "#先把這個hdf檔的軌道畫出來看看\n",
    "#尋找你感興趣的區域\n",
    "fig = plt.figure(figsize=(16,12)) \n",
    "m = Basemap(llcrnrlon=-60, urcrnrlon=300., llcrnrlat=-90., urcrnrlat=90.,resolution='l')\n",
    "m.drawcoastlines(linewidth=0.5)\n",
    "m.drawparallels(np.arange(-90., 120., 30.), labels=[1, 0, 0, 0])\n",
    "m.drawmeridians(np.arange(-180., 181., 30.), labels=[0, 0, 0, 1])\n",
    "m.scatter(mo_longitude[:], latitude[:] , c=MODIS_cloud_fraction[:] ,cmap=plt.cm.get_cmap('jet',10), vmin=10, vmax=120)\n",
    "#plt.show()"
   ]
  },
  {
   "cell_type": "code",
   "execution_count": null,
   "metadata": {},
   "outputs": [],
   "source": [
    "#利用經緯度矩陣的值找出感興趣的區域在矩陣中的位置\n",
    "mo_longitude=np.asarray(longitude)\n",
    "mo_latitude=np.asarray(latitude)\n",
    "shape1 = mo_longitude.shape\n",
    "lonlat_mask= np.zeros((shape1[0],1),dtype=int)\n",
    "\n",
    "for i in range(0,shape1[0]):\n",
    "    if mo_longitude[i] >'longitude_left_edge'  and  mo_longitude[i]<'longitude_right_edge'  and  mo_latitude[i] > 'latitude_bottom_edge'  and  mo_latitude[i] <  'latitude_top_edge':\n",
    "        lonlat_mask[i]= 1##有在所選經緯度涵蓋範圍的矩陣會被設成'1'\n",
    "        \n",
    "region_array_size=sum(lonlat_mask)\n",
    "print(\"Array length over the select region:\")\n",
    "print(sum(region_array_size))\n"
   ]
  },
  {
   "cell_type": "code",
   "execution_count": null,
   "metadata": {},
   "outputs": [],
   "source": [
    "HDFvars(filename)"
   ]
  },
  {
   "cell_type": "code",
   "execution_count": null,
   "metadata": {},
   "outputs": [],
   "source": [
    "# Read dataset.\n",
    "hdfFile = SD(filename, SDC.READ)##SDS資料輸出\n",
    "Reflectivity = hdfFile.select('ref_array')##輸出變數\n",
    "Cloud_mask = hdfFile.select('cloud_mask_array')\n",
    "Height = hdfFile.select('height_array')\n",
    "pprint.pprint(Reflectivity.attributes())##輸出變數的基本資料"
   ]
  },
  {
   "cell_type": "code",
   "execution_count": null,
   "metadata": {},
   "outputs": [],
   "source": [
    "demo_longitude=np.asarray(longitude)\n",
    "demo_latitude=np.asarray(latitude)\n",
    "demo_Reflectivity=np.asarray(Reflectivity[:,:])\n",
    "demo_Height=np.asarray(Height[:,:])\n",
    "print(demo_Reflectivity.shape)\n",
    "print(demo_Height.shape)\n",
    "Ref_array_demo = pd.DataFrame(Reflectivity[:,:] ,columns=demo_Height[0,:] ,index=demo_latitude[:,0])\n",
    "Ref_array_demo.head()"
   ]
  },
  {
   "cell_type": "code",
   "execution_count": 20,
   "metadata": {},
   "outputs": [],
   "source": [
    "#從完整變數矩陣中取出感興趣的區域的矩陣\n",
    "region_Reflectivity= np.zeros((region_array_size[0],125))\n",
    "region_Cloud_mask= np.zeros((region_array_size[0],125))\n",
    "region_height= np.zeros((region_array_size[0],125))\n",
    "\n",
    "region_lat= np.zeros((region_array_size[0],1))\n",
    "region_lon= np.zeros((region_array_size[0],1))\n",
    "k=0\n",
    "for i in range(0,shape1[0]):\n",
    "    if lonlat_mask[i]>0:\n",
    "        region_Reflectivity[k,:]= Reflectivity[i,:]/100\n",
    "        region_Cloud_mask[k,:]= Cloud_mask[i,:]\n",
    "        region_height[k,:]=Height[i,:]\n",
    "        region_lat[k,0]=mo_latitude[i]\n",
    "        region_lon[k,0]=mo_longitude[i]\n",
    "        k=k+1"
   ]
  },
  {
   "cell_type": "code",
   "execution_count": null,
   "metadata": {},
   "outputs": [],
   "source": [
    "Ref_array_demo = pd.DataFrame(region_Reflectivity[:,:] ,columns=region_height[0,:] ,index=region_lat[:,0])\n",
    "print(Ref_array_demo.shape)\n",
    "Ref_array_demo.head()"
   ]
  },
  {
   "cell_type": "code",
   "execution_count": 24,
   "metadata": {},
   "outputs": [],
   "source": [
    "#先轉置矩陣再把columns倒過來，為了畫圖\n",
    "Ref= region_Reflectivity[:,:].T\n",
    "r_Ref = Ref[::-1]\n",
    "c_mask=region_Cloud_mask[:,:].T\n",
    "r_c_mask = c_mask[::-1]\n",
    "Hef= region_height[:,:].T\n",
    "r_Hef = Hef[::-1]\n",
    "ref_height=np.mean(r_Hef,axis=1)\n",
    "ref_height=np.around(ref_height)\n",
    "region_lat = np.around(region_lat,decimals=1)"
   ]
  },
  {
   "cell_type": "code",
   "execution_count": null,
   "metadata": {},
   "outputs": [],
   "source": [
    "# Track plot\n",
    "fig = plt.figure(figsize=(8,8)) \n",
    "m = Basemap(llcrnrlon=115, urcrnrlon=130., llcrnrlat=10., urcrnrlat=30.,resolution='l')\n",
    "m.drawcoastlines(linewidth=1)\n",
    "m.drawparallels(np.arange(-90., 120., 5.), labels=[1, 0, 0, 0])\n",
    "m.drawmeridians(np.arange(-180., 181., 5.), labels=[0, 0, 0, 1])\n",
    "m.scatter(mo_longitude[:], latitude[:] , c=MODIS_cloud_fraction[:] ,cmap=plt.cm.get_cmap('jet',10), vmin=10, vmax=120)\n",
    "#plt.show()"
   ]
  },
  {
   "cell_type": "code",
   "execution_count": null,
   "metadata": {
    "scrolled": false
   },
   "outputs": [],
   "source": [
    "#雷達回波 plot\n",
    "fig = plt.figure(figsize=(20,7)) \n",
    "plt.pcolormesh(r_Ref[20:100,:],cmap=plt.cm.get_cmap('jet',25), vmin=-25, vmax=25)\n",
    "plt.colorbar(aspect=15, pad=0.02)\n",
    "plt.title('Radar Reflectivity',fontsize=18)\n",
    "#XY軸設定指令\n",
    "plt.yticks(np.arange(0,80,step=8), (ref_height[20:100:8,]))\n",
    "plt.xticks(np.arange(99,region_array_size[0],step=120), (region_lat[99:region_array_size[0]:120,0]))\n",
    "plt.tick_params(axis=\"x\", labelsize=20)\n",
    "plt.tick_params(axis=\"y\", labelsize=15)\n",
    "plt.ylabel('Height(m)',color='k',fontsize=18)\n",
    "plt.xlabel('Latitude',color='k',fontsize=18)\n",
    "#plt.show()"
   ]
  }
 ],
 "metadata": {
  "kernelspec": {
   "display_name": "Python 3",
   "language": "python",
   "name": "python3"
  },
  "language_info": {
   "codemirror_mode": {
    "name": "ipython",
    "version": 3
   },
   "file_extension": ".py",
   "mimetype": "text/x-python",
   "name": "python",
   "nbconvert_exporter": "python",
   "pygments_lexer": "ipython3",
   "version": "3.7.1"
  }
 },
 "nbformat": 4,
 "nbformat_minor": 2
}
